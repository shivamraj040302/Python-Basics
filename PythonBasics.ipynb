{
  "nbformat": 4,
  "nbformat_minor": 0,
  "metadata": {
    "colab": {
      "provenance": []
    },
    "kernelspec": {
      "name": "python3",
      "display_name": "Python 3"
    },
    "language_info": {
      "name": "python"
    }
  },
  "cells": [
    {
      "cell_type": "markdown",
      "source": [
        "**PYHON BASIC QUESTIONS**\n",
        "\n",
        "1.What is Python, and why is it popular?\n",
        "   - Python is a high-level, interpreted, general-purpose programming language. It emphasizes code readability with its notable use of significant indentation. Created by Guido van Rossum and first released in 1991, Python's design philosophy focuses on code that is easy to read and write.\n",
        "\n",
        "\n",
        "  Why Popular:\n",
        "   - Ease of Learning and Use: Python boasts a simple and readable syntax that closely resembles the English language. This makes it significantly easier for beginners to pick up and understand compared to many other programming languages.\n",
        "   - Versatility: Python is a general-purpose language, meaning it can be used for a wide range of applications across various domains.\n",
        "   - Extensive Libraries and Frameworks: Python has a vast and comprehensive standard library, often described as \"batteries included,\" which provides modules for numerous tasks.\n",
        "   - Large and Active Community: Python has a massive and supportive community of developers worldwide. This means abundant resources for learning (tutorials, documentation), readily available help through forums and online communities, and a continuous flow of new libraries and tools.\n",
        "   - Open Source and Free: Python is open-source, meaning it is free to use, distribute, and modify. This fosters collaboration and innovation within the developer community.\n",
        "   - Cross-Platform Compatibility: Python code can run on various operating systems (Windows, macOS, Linux) without significant modifications, offering great flexibility to developers.\n",
        "\n",
        "2.What is an interpreter in Python?\n",
        "   - In Python, an interpreter is a program that reads and executes Python code line by line, translating it into machine code that your computer can run.\n",
        "\n",
        " Key Points About the Python Interpreter:\n",
        "- Line-by-Line Execution\n",
        "- Interactive Mode\n",
        "- No Compilation Step Needed\n",
        "- Error Handling\n",
        "- Different Python Interpreters\n",
        "\n",
        "3.What are pre-defined keywords in Python?\n",
        "- Keywords are reserved words in Python that have predefined meanings and cannot be used as identifiers such as variable names or function names. They are fundamental building blocks of the language, controlling program flow, defining structures, and performing operations.\n",
        "\n",
        "  The specific set of keywords may vary slightly between Python versions, but a common list includes:\n",
        "\n",
        "- False, None, True, and, as, assert, async, await, break, class, continue, def, del, elif, else, except, finally, for, from, global, if, import, in, is, lambda, nonlocal, not, or, pass, raise, return, try, while, with, and yield.\n",
        "\n",
        "4.Can keywords be used as variable names?\n",
        "- No, keywords cannot be used as variable names in Python because they are reserved for special functions in the language's syntax. Trying to use them as variable names will result in a SyntaxError.\n",
        "\n",
        "5.What is mutability in Python?\n",
        "- In Python, mutability refers to whether or not an object can be changed after it is created.\n",
        "Mutable objects\n",
        "These can be modified after creation — you can change their contents (e.g., elements, values).\n",
        "\n",
        " Examples:\n",
        "   -  list\n",
        "   - dict (dictionary)\n",
        "   - set\n",
        "\n",
        "6.Why are lists mutable, but tuples are immutable?\n",
        "- Lists are Mutable Because:\n",
        "  - Dynamic Collections: Lists are designed to be dynamic collections of items. You often need to add, remove, or modify elements within a list as your program runs.\n",
        "  - Efficiency for Modifications: For scenarios involving frequent additions, removals, or updates, modifying a list in place is generally more efficient than creating a new collection each time.\n",
        "  - Natural Representation of Ordered, Changeable Data: Lists often naturally represent sequences of items where the order matters and the contents are expected to be changeable, like a list of tasks, a sequence of sensor readings, or a collection of user inputs.\n",
        "- Tuples are Immutable Because:\n",
        "  - Representing Fixed Collections: Tuples are intended to represent fixed collections of items that should not be changed after creation.\n",
        "  - Data Integrity and Predictability: Immutability ensures data integrity. When you pass a tuple around in your program, you can be confident that its contents will not be accidentally modified by another part of the code.\n",
        "  - Usability as Dictionary Keys: Tuples can be used as keys in dictionaries, while lists cannot.\n",
        "\n",
        "7.What is the difference between “==” and “is” operators in Python?\n",
        "- In Python, == and is are both comparison operators, but they check different things:\n",
        "- == —> Equality Operator.\n",
        "Checks if two values are equal (i.e., they contain the same data).\n",
        " - It compares the contents of the objects.\n",
        "- is —> Identity Operator.\n",
        "Checks if two variables point to the same object in memory.\n",
        " - It compares the identity (memory address) of the objects.\n",
        "\n",
        "8.What are logical operators in Python?\n",
        "- Python has three main logical operators:\n",
        "\n",
        " - and (Logical AND):\n",
        "   - The and operator returns True if both operands are True.\n",
        "If either one or both operands are False, it returns False.\n",
        "Think of it as: \"Condition A and Condition B must be true for the overall result to be true.\"\n",
        " - or (Logical OR):\n",
        "   - The or operator returns True if at least one of the operands is True.\n",
        "It returns False only if both operands are False.\n",
        "Think of it as: \"Either Condition A or Condition B (or both) must be true for the overall result to be true.\"\n",
        " - not (Logical NOT):\n",
        "   - The not operator is a unary operator, meaning it operates on a single operand.\n",
        "It reverses the boolean value of its operand. If the operand is True, not returns False, and if the operand is False, not returns True.\n",
        "Think of it as: \"The opposite of this condition.\"\n",
        "\n",
        "9.What is type casting in Python?\n",
        "- In Python, it's the process of changing the data type of a value from one type to another. You might need to do this for various reasons, such as:\n",
        " - Performing operations that are only defined between specific data types.\n",
        " - Formatting output in a desired way.\n",
        " - Ensuring data compatibility when working with different parts of your code or external systems.\n",
        "\n",
        "10.What is the difference between implicit and explicit type casting?\n",
        "- The difference between implicit and explicit type casting in Python lies in who performs the conversion—Python or the programmer—and how controlled the process is.\n",
        "  - Implicit Type Casting\n",
        "     - Done automatically by Python\n",
        "     - Happens when there’s no risk of data loss\n",
        "     - Common in operations involving mixed data type\n",
        "  - Explicit Type Casting\n",
        "     - Done manually by the programmer\n",
        "     - Used when you want to control the conversion\n",
        "     - Can lead to data loss or errors if not handled properly\n",
        "    \n",
        "11.What is the purpose of conditional statements in Python?\n",
        "- The purpose of conditional statements in Python (and in most programming languages) is to control the flow of execution of your code based on whether certain conditions are true or false. They allow your program to make decisions and execute different blocks of code depending on the evaluation of these conditions.\n",
        "  - The main conditional statements in Python are:\n",
        "      - if statement: Executes a block of code only if a specified condition is true.\n",
        "      - else statement: Executes a block of code if the condition in the preceding if statement is false.\n",
        "      - elif statement (else if): Allows you to check multiple conditions in sequence. If the if condition is false, the elif condition is evaluated. If that's false, the next elif (if any) is checked, and so on.\n",
        "    \n",
        "12.How does the elif statement work?\n",
        "- The elif (short for \"else if\") statement in Python is used to check multiple conditions in a sequence after an initial if condition.\n",
        "  - How elif Works:\n",
        "    - Python evaluates the if condition first.\n",
        "    - If if is False, it checks each elif in order.\n",
        "    - The first True condition it finds will execute.\n",
        "    - If none are True, it moves to the optional else block (if present).\n",
        "\n",
        "13.What is the difference between for and while loops?\n",
        "- To reiterate the key differences between for and while loops in Python:\n",
        "   - for Loop: Primarily used for iterating over a sequence (like a list, tuple, string, or range) or other iterable objects. It executes the loop body once for each item in the sequence. The number of iterations is generally known. It automatically manages the iteration.\n",
        "   - while Loop: Continues to execute its block of code as long as a specified condition remains True. The number of iterations might not be known in advance. You are responsible for ensuring the condition eventually becomes False within the loop body to avoid infinite loops.\n",
        "\n",
        "14.Describe a scenario where a while loop is more suitable than a for loop.\n",
        "- Scenario: Getting Valid User Input\n",
        "  - Imagine you are writing a program that requires the user to enter a positive integer. You need to keep prompting the user for input until they provide a valid number. In this case, you don't know in advance how many times you'll need to ask for input. The loop should continue as long as the input is invalid.\n"
      ],
      "metadata": {
        "id": "womkSgPY8CV4"
      }
    },
    {
      "cell_type": "markdown",
      "source": [
        "**Practical Questions**"
      ],
      "metadata": {
        "id": "ZNXfEoqONCp4"
      }
    },
    {
      "cell_type": "markdown",
      "source": [
        "1.Write a Python program to print \"Hello, World!"
      ],
      "metadata": {
        "id": "6Hg_ZTeuNBVS"
      }
    },
    {
      "cell_type": "code",
      "source": [
        "print(\"Hello, World!\")"
      ],
      "metadata": {
        "colab": {
          "base_uri": "https://localhost:8080/"
        },
        "id": "PYgPxnXzNac_",
        "outputId": "a55f5c6e-1565-4451-e4fb-35d2c8f6abf4"
      },
      "execution_count": null,
      "outputs": [
        {
          "output_type": "stream",
          "name": "stdout",
          "text": [
            "Hello, World!\n"
          ]
        }
      ]
    },
    {
      "cell_type": "markdown",
      "source": [
        "2.Write a Python program that displays your name and age.\n"
      ],
      "metadata": {
        "id": "RjO4QHf_Nq3m"
      }
    },
    {
      "cell_type": "code",
      "source": [
        "# Display name and age\n",
        "name = \"Shivam\"\n",
        "age = 25\n",
        "\n",
        "print(\"My name is\", name)\n",
        "print(\"I am\", age, \"years old.\")"
      ],
      "metadata": {
        "colab": {
          "base_uri": "https://localhost:8080/"
        },
        "id": "6wTkmJhaN6MX",
        "outputId": "3a0a1bfb-7c6c-4544-81df-0b78784237f7"
      },
      "execution_count": null,
      "outputs": [
        {
          "output_type": "stream",
          "name": "stdout",
          "text": [
            "My name is Shivam\n",
            "I am 25 years old.\n"
          ]
        }
      ]
    },
    {
      "cell_type": "markdown",
      "source": [
        "3.Write code to print all the pre-defined keywords in Python using the keyword library."
      ],
      "metadata": {
        "id": "sCsUIccrODwt"
      }
    },
    {
      "cell_type": "code",
      "source": [
        "import keyword\n",
        "\n",
        "# Get the list of all Python keywords\n",
        "keywords = keyword.kwlist\n",
        "\n",
        "print(\"Python Keywords:\")\n",
        "for kw in keywords:\n",
        "    print(kw)"
      ],
      "metadata": {
        "colab": {
          "base_uri": "https://localhost:8080/"
        },
        "id": "KEIA_L9GOc0Y",
        "outputId": "78c50cc6-dc2f-49d1-d8c8-0acb47cf6c4b"
      },
      "execution_count": null,
      "outputs": [
        {
          "output_type": "stream",
          "name": "stdout",
          "text": [
            "Python Keywords:\n",
            "False\n",
            "None\n",
            "True\n",
            "and\n",
            "as\n",
            "assert\n",
            "async\n",
            "await\n",
            "break\n",
            "class\n",
            "continue\n",
            "def\n",
            "del\n",
            "elif\n",
            "else\n",
            "except\n",
            "finally\n",
            "for\n",
            "from\n",
            "global\n",
            "if\n",
            "import\n",
            "in\n",
            "is\n",
            "lambda\n",
            "nonlocal\n",
            "not\n",
            "or\n",
            "pass\n",
            "raise\n",
            "return\n",
            "try\n",
            "while\n",
            "with\n",
            "yield\n"
          ]
        }
      ]
    },
    {
      "cell_type": "markdown",
      "source": [
        "4.Write a program that checks if a given word is a Python keyword."
      ],
      "metadata": {
        "id": "hMKlqicMOjEO"
      }
    },
    {
      "cell_type": "code",
      "source": [
        "import keyword\n",
        "\n",
        "# Ask the user to enter a word\n",
        "word = input(\"Enter a word to check if it's a Python keyword: \")\n",
        "\n",
        "# Check if it's a keyword\n",
        "if keyword.iskeyword(word):\n",
        "    print(f\"'{word}' is a Python keyword.\")\n",
        "else:\n",
        "    print(f\"'{word}' is NOT a Python keyword.\")"
      ],
      "metadata": {
        "colab": {
          "base_uri": "https://localhost:8080/"
        },
        "id": "7cTrLYQROoqf",
        "outputId": "d181ceb4-3b9c-4f4a-9990-517d328bce3c"
      },
      "execution_count": null,
      "outputs": [
        {
          "output_type": "stream",
          "name": "stdout",
          "text": [
            "Enter a word to check if it's a Python keyword: for\n",
            "'for' is a Python keyword.\n"
          ]
        }
      ]
    },
    {
      "cell_type": "markdown",
      "source": [
        "5.Create a list and tuple in Python, and demonstrate how attempting to change an element works differently for each."
      ],
      "metadata": {
        "id": "M9iSELRpO1-c"
      }
    },
    {
      "cell_type": "code",
      "source": [
        "# Creating a list and a tuple\n",
        "my_list = [10, 20, 30]\n",
        "my_tuple = (10, 20, 30)\n",
        "\n",
        "# Changing an element in the list (✅ this works)\n",
        "my_list[1] = 99\n",
        "print(\"Modified list:\", my_list)\n",
        "\n",
        "# Attempting to change an element in the tuple (this causes an error)\n",
        "try:\n",
        "    my_tuple[1] = 99\n",
        "except TypeError as e:\n",
        "    print(\"Error when modifying tuple:\", e)"
      ],
      "metadata": {
        "colab": {
          "base_uri": "https://localhost:8080/"
        },
        "id": "FSDMn9ASO_Qr",
        "outputId": "2d9f9146-3208-4273-f948-7d2ae5e46f4e"
      },
      "execution_count": null,
      "outputs": [
        {
          "output_type": "stream",
          "name": "stdout",
          "text": [
            "Modified list: [10, 99, 30]\n",
            "Error when modifying tuple: 'tuple' object does not support item assignment\n"
          ]
        }
      ]
    },
    {
      "cell_type": "markdown",
      "source": [
        "6.Write a function to demonstrate the behavior of mutable and immutable arguments."
      ],
      "metadata": {
        "id": "1K6UmxCtPP90"
      }
    },
    {
      "cell_type": "code",
      "source": [
        "def modify_arguments(a_number, a_list):\n",
        "    # Try to modify the integer (immutable)\n",
        "    a_number += 10\n",
        "    print(\"Inside function - number:\", a_number)\n",
        "\n",
        "    # Try to modify the list (mutable)\n",
        "    a_list.append(100)\n",
        "    print(\"Inside function - list:\", a_list)\n",
        "\n",
        "# Immutable argument\n",
        "num = 5\n",
        "\n",
        "# Mutable argument\n",
        "my_list = [1, 2, 3]\n",
        "\n",
        "# Call the function\n",
        "modify_arguments(num, my_list)\n",
        "\n",
        "# Check values after function call\n",
        "print(\"Outside function - number:\", num)       # Unchanged\n",
        "print(\"Outside function - list:\", my_list)     # Changed"
      ],
      "metadata": {
        "colab": {
          "base_uri": "https://localhost:8080/"
        },
        "id": "RhTTWM5VPWcx",
        "outputId": "11804824-8089-4fca-e61a-e2532a5c1453"
      },
      "execution_count": null,
      "outputs": [
        {
          "output_type": "stream",
          "name": "stdout",
          "text": [
            "Inside function - number: 15\n",
            "Inside function - list: [1, 2, 3, 100]\n",
            "Outside function - number: 5\n",
            "Outside function - list: [1, 2, 3, 100]\n"
          ]
        }
      ]
    },
    {
      "cell_type": "markdown",
      "source": [
        "7.Write a program that performs basic arithmetic operations on two user-input numbers."
      ],
      "metadata": {
        "id": "DjnZFQxuP7Z-"
      }
    },
    {
      "cell_type": "code",
      "source": [
        "# Get user input\n",
        "num1 = float(input(\"Enter the first number: \"))\n",
        "num2 = float(input(\"Enter the second number: \"))\n",
        "\n",
        "# Perform arithmetic operations\n",
        "print(\"\\nResults:\")\n",
        "print(\"Addition:\", num1 + num2)\n",
        "print(\"Subtraction:\", num1 - num2)\n",
        "print(\"Multiplication:\", num1 * num2)\n",
        "\n",
        "# Handle division safely\n",
        "if num2 != 0:\n",
        "    print(\"Division:\", num1 / num2)\n",
        "else:\n",
        "    print(\"Division: Error! Cannot divide by zero.\")"
      ],
      "metadata": {
        "colab": {
          "base_uri": "https://localhost:8080/"
        },
        "id": "Y7FqNiWtQO3Z",
        "outputId": "cf20dfd0-651b-4ed0-e91e-ee42e4cb60f3"
      },
      "execution_count": null,
      "outputs": [
        {
          "output_type": "stream",
          "name": "stdout",
          "text": [
            "Enter the first number: 10\n",
            "Enter the second number: 5\n",
            "\n",
            "Results:\n",
            "Addition: 15.0\n",
            "Subtraction: 5.0\n",
            "Multiplication: 50.0\n",
            "Division: 2.0\n"
          ]
        }
      ]
    },
    {
      "cell_type": "markdown",
      "source": [
        "8.Write a program to demonstrate the use of logical operators."
      ],
      "metadata": {
        "id": "JLZABrslQXG1"
      }
    },
    {
      "cell_type": "code",
      "source": [
        "# Get two boolean values from the user\n",
        "a = int(input(\"Enter 1st number (non-zero = True, 0 = False): \"))\n",
        "b = int(input(\"Enter 2nd number (non-zero = True, 0 = False): \"))\n",
        "\n",
        "# Convert to boolean\n",
        "a_bool = bool(a)\n",
        "b_bool = bool(b)\n",
        "\n",
        "# Logical operations\n",
        "print(\"\\nLogical Operator Results:\")\n",
        "print(\"a AND b:\", a_bool and b_bool)\n",
        "print(\"a OR b:\", a_bool or b_bool)\n",
        "print(\"NOT a:\", not a_bool)\n",
        "print(\"NOT b:\", not b_bool)\n"
      ],
      "metadata": {
        "colab": {
          "base_uri": "https://localhost:8080/"
        },
        "id": "heIrVghgQc8n",
        "outputId": "f182ab29-3a2a-452b-bef7-a7edaeddc433"
      },
      "execution_count": null,
      "outputs": [
        {
          "output_type": "stream",
          "name": "stdout",
          "text": [
            "Enter 1st number (non-zero = True, 0 = False): 5\n",
            "Enter 2nd number (non-zero = True, 0 = False): 0\n",
            "\n",
            "Logical Operator Results:\n",
            "a AND b: False\n",
            "a OR b: True\n",
            "NOT a: False\n",
            "NOT b: True\n"
          ]
        }
      ]
    },
    {
      "cell_type": "markdown",
      "source": [
        "9.Write a Python program to convert user input from string to integer, float, and boolean types."
      ],
      "metadata": {
        "id": "4m6JnFXXQuRJ"
      }
    },
    {
      "cell_type": "code",
      "source": [
        "# Get input from the user\n",
        "user_input = input(\"Enter a value: \")\n",
        "\n",
        "# Try converting to integer\n",
        "try:\n",
        "    int_value = int(user_input)\n",
        "    print(\"Integer:\", int_value)\n",
        "except ValueError:\n",
        "    print(\"Cannot convert to integer.\")\n",
        "\n",
        "# Try converting to float\n",
        "try:\n",
        "    float_value = float(user_input)\n",
        "    print(\"Float:\", float_value)\n",
        "except ValueError:\n",
        "    print(\"Cannot convert to float.\")\n",
        "\n",
        "# Convert to boolean\n",
        "bool_value = bool(user_input)\n",
        "print(\"Boolean:\", bool_value)\n"
      ],
      "metadata": {
        "colab": {
          "base_uri": "https://localhost:8080/"
        },
        "id": "NTtbQUz-RO_L",
        "outputId": "ea018175-5ec4-40d5-dbc7-a1341bf7b110"
      },
      "execution_count": 9,
      "outputs": [
        {
          "output_type": "stream",
          "name": "stdout",
          "text": [
            "Enter a value: 42\n",
            "Integer: 42\n",
            "Float: 42.0\n",
            "Boolean: True\n"
          ]
        }
      ]
    },
    {
      "cell_type": "markdown",
      "source": [
        "10.Write code to demonstrate type casting with list elements."
      ],
      "metadata": {
        "id": "jfvgETO2RVGp"
      }
    },
    {
      "cell_type": "code",
      "source": [
        "# List of strings that represent numbers\n",
        "str_list = ['10', '20', '30', '40.5', 'abc']\n",
        "\n",
        "# Convert to integers (when possible)\n",
        "int_list = []\n",
        "for item in str_list:\n",
        "    try:\n",
        "        int_list.append(int(float(item)))  # Use float() first to handle decimal strings\n",
        "    except ValueError:\n",
        "        int_list.append(None)  # Use None to indicate a failed conversion\n",
        "\n",
        "print(\"Original list:\", str_list)\n",
        "print(\"Converted to integers:\", int_list)"
      ],
      "metadata": {
        "colab": {
          "base_uri": "https://localhost:8080/"
        },
        "id": "f4Rbu2RYRaMV",
        "outputId": "5b9b2cd3-4957-43f1-cb25-277495eaf982"
      },
      "execution_count": 10,
      "outputs": [
        {
          "output_type": "stream",
          "name": "stdout",
          "text": [
            "Original list: ['10', '20', '30', '40.5', 'abc']\n",
            "Converted to integers: [10, 20, 30, 40, None]\n"
          ]
        }
      ]
    },
    {
      "cell_type": "markdown",
      "source": [
        "11.Write a program that checks if a number is positive, negative, or zero."
      ],
      "metadata": {
        "id": "qb-G_wbLRkiN"
      }
    },
    {
      "cell_type": "code",
      "source": [
        "# Get input from the user\n",
        "num = float(input(\"Enter a number: \"))\n",
        "\n",
        "# Check the sign of the number\n",
        "if num > 0:\n",
        "    print(\"The number is positive.\")\n",
        "elif num < 0:\n",
        "    print(\"The number is negative.\")\n",
        "else:\n",
        "    print(\"The number is zero.\")\n"
      ],
      "metadata": {
        "colab": {
          "base_uri": "https://localhost:8080/"
        },
        "id": "8Y5Vk0M-Rn3h",
        "outputId": "711b281e-baeb-43b8-e263-c5bcd761b4c9"
      },
      "execution_count": 11,
      "outputs": [
        {
          "output_type": "stream",
          "name": "stdout",
          "text": [
            "Enter a number: -7\n",
            "The number is negative.\n"
          ]
        }
      ]
    },
    {
      "cell_type": "markdown",
      "source": [
        "12.Write a for loop to print numbers from 1 to 10."
      ],
      "metadata": {
        "id": "nERoLmGxRyp4"
      }
    },
    {
      "cell_type": "code",
      "source": [
        "for i in range(1, 11):\n",
        "    print(i)\n"
      ],
      "metadata": {
        "colab": {
          "base_uri": "https://localhost:8080/"
        },
        "id": "pzxnLtngR4sq",
        "outputId": "8cbf70d9-5509-4216-b6f7-f08fabca0498"
      },
      "execution_count": 12,
      "outputs": [
        {
          "output_type": "stream",
          "name": "stdout",
          "text": [
            "1\n",
            "2\n",
            "3\n",
            "4\n",
            "5\n",
            "6\n",
            "7\n",
            "8\n",
            "9\n",
            "10\n"
          ]
        }
      ]
    },
    {
      "cell_type": "markdown",
      "source": [
        "13.Write a Python program to find the sum of all even numbers between 1 and 50."
      ],
      "metadata": {
        "id": "91sNbssRR-zN"
      }
    },
    {
      "cell_type": "code",
      "source": [
        "# Initialize sum\n",
        "even_sum = 0\n",
        "\n",
        "# Loop through numbers from 1 to 50\n",
        "for num in range(1, 51):\n",
        "    if num % 2 == 0:  # Check if the number is even\n",
        "        even_sum += num\n",
        "\n",
        "# Print the result\n",
        "print(\"Sum of even numbers from 1 to 50 is:\", even_sum)\n"
      ],
      "metadata": {
        "colab": {
          "base_uri": "https://localhost:8080/"
        },
        "id": "MMNzkOwJSEZy",
        "outputId": "10a45f0f-f50c-46da-a942-e43a6df98d69"
      },
      "execution_count": 13,
      "outputs": [
        {
          "output_type": "stream",
          "name": "stdout",
          "text": [
            "Sum of even numbers from 1 to 50 is: 650\n"
          ]
        }
      ]
    },
    {
      "cell_type": "markdown",
      "source": [
        "14.Write a program to reverse a string using a while loop."
      ],
      "metadata": {
        "id": "e7vCc29uSPpZ"
      }
    },
    {
      "cell_type": "code",
      "source": [
        "# Get input from the user\n",
        "text = input(\"Enter a string: \")\n",
        "\n",
        "# Initialize variables\n",
        "reversed_text = \"\"\n",
        "index = len(text) - 1\n",
        "\n",
        "# Use while loop to reverse the string\n",
        "while index >= 0:\n",
        "    reversed_text += text[index]\n",
        "    index -= 1\n",
        "\n",
        "# Print the reversed string\n",
        "print(\"Reversed string:\", reversed_text)\n"
      ],
      "metadata": {
        "colab": {
          "base_uri": "https://localhost:8080/"
        },
        "id": "2qQjMuHZST_t",
        "outputId": "615e8b7e-3b42-4105-8859-e5466d7781a8"
      },
      "execution_count": 14,
      "outputs": [
        {
          "output_type": "stream",
          "name": "stdout",
          "text": [
            "Enter a string: hello\n",
            "Reversed string: olleh\n"
          ]
        }
      ]
    },
    {
      "cell_type": "markdown",
      "source": [
        "15.Write a Python program to calculate the factorial of a number provided by the user using a while loop."
      ],
      "metadata": {
        "id": "GtN8MewJSgZ8"
      }
    },
    {
      "cell_type": "code",
      "source": [
        "# Get input from user\n",
        "num = int(input(\"Enter a non-negative integer: \"))\n",
        "\n",
        "# Check for valid input\n",
        "if num < 0:\n",
        "    print(\"Factorial is not defined for negative numbers.\")\n",
        "else:\n",
        "    factorial = 1\n",
        "    i = 1\n",
        "\n",
        "    while i <= num:\n",
        "        factorial *= i\n",
        "        i += 1\n",
        "\n",
        "    print(f\"The factorial of {num} is {factorial}.\")\n"
      ],
      "metadata": {
        "colab": {
          "base_uri": "https://localhost:8080/"
        },
        "id": "_k0DUiuySmIS",
        "outputId": "bbcfe4ed-1644-4620-ec30-9b02ce9e24eb"
      },
      "execution_count": 15,
      "outputs": [
        {
          "output_type": "stream",
          "name": "stdout",
          "text": [
            "Enter a non-negative integer: 6\n",
            "The factorial of 6 is 720.\n"
          ]
        }
      ]
    }
  ]
}